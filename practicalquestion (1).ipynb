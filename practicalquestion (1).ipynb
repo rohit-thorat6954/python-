{
 "cells": [
  {
   "cell_type": "code",
   "execution_count": null,
   "id": "46157547-c6c4-419d-985f-04d77ece2aab",
   "metadata": {},
   "outputs": [],
   "source": [
    "Q1)what is python and why is it popular?\n",
    "Answer--> 1) python is a high level, interpreted programming language\n",
    "     known for its simplicity, readability\n",
    "     it is popular because \n",
    "     1)easy to learn and use\n",
    "     2)large standard library\n",
    "     3)cross platform"
   ]
  },
  {
   "cell_type": "code",
   "execution_count": null,
   "id": "d8d98cfa-3036-47c1-93d4-f058c508a10b",
   "metadata": {},
   "outputs": [],
   "source": [
    "Q2)what is interpreter in python?\n",
    "Answer--> a python interpreter is a program that directly\n",
    "          executes python code"
   ]
  },
  {
   "cell_type": "code",
   "execution_count": null,
   "id": "666093a2-3d4c-4810-b2ef-5661d0648ccf",
   "metadata": {},
   "outputs": [],
   "source": [
    "Q3)what are pre-defined keywords in python?\n",
    "Answer--> predefined keywords in python are reserved words that \n",
    "         hold special meaning and functionality within the language"
   ]
  },
  {
   "cell_type": "code",
   "execution_count": null,
   "id": "fad0e453-5ccf-47a1-8084-7b69497123ff",
   "metadata": {},
   "outputs": [],
   "source": [
    "Q4) can keywords be used as variable names?\n",
    "Answer--> no keywords cannot be used as variable names."
   ]
  },
  {
   "cell_type": "code",
   "execution_count": null,
   "id": "3b28a0cb-8703-41f2-8319-1372f15961fc",
   "metadata": {},
   "outputs": [],
   "source": [
    "Q5)what is mutability in python?\n",
    "Answer--> An object is considered mutable if its state or value can be modified after it is created"
   ]
  },
  {
   "cell_type": "code",
   "execution_count": null,
   "id": "3c126be3-c796-41d2-a9c4-befce595f42e",
   "metadata": {},
   "outputs": [],
   "source": [
    "Q6) why list are mutable but tuples are immutable?\n",
    "Answer--> once a tuple has been created you can't replace any of its\n",
    "         elements with a new value. list are mutable meaning that you can always change a list elements\n"
   ]
  },
  {
   "cell_type": "code",
   "execution_count": null,
   "id": "a19a1055-94c4-4c23-a1b9-6caad8a1c5fc",
   "metadata": {},
   "outputs": [],
   "source": [
    "Q7) what are the difference between \"==\" and \"is\" operators in python?\n",
    "Answer--> \"==\" 1] the operator checks for value equality \n",
    "               2] it determines whether the values of two objects are the same.\n",
    "\n",
    "          \"is\" 1] the operator checks for object identity\n",
    "               2] it determines whether two variables refer to the exact same object in memory"
   ]
  },
  {
   "cell_type": "code",
   "execution_count": null,
   "id": "1ba81b62-9a30-4e0c-ad28-c3e129778331",
   "metadata": {},
   "outputs": [],
   "source": [
    "Q8) what are logical operators in python?\n",
    "Answer--> there are three types of logical operators in python \n",
    "           AND,OR,NOT\n",
    "           they compare two or more conditions and return true or false based on logic applied \n",
    "           the and operator returns true only if both conditions are true"
   ]
  },
  {
   "cell_type": "code",
   "execution_count": null,
   "id": "d51d4e5f-0fba-442e-935d-bbe0098a9607",
   "metadata": {},
   "outputs": [],
   "source": [
    "Q9) what is type casting in python?\n",
    "Answer--> type casting also known as type conversion is the process of changing the data type\n",
    "           of a value from one type to another"
   ]
  },
  {
   "cell_type": "code",
   "execution_count": null,
   "id": "e95c0ead-26b3-428d-812a-1e3a16bbcf72",
   "metadata": {},
   "outputs": [],
   "source": [
    "Q10) what is the difference between implicit and explicit type casting?\n",
    "Answer--> implicit 1] automatic data conversion \n",
    "                   2] python itself handles without any coding inputs\n",
    "                   3] quick and seamless\n",
    "          explicit 1] manual data conversion\n",
    "                   2] uses functions like int(),float(),str()\n",
    "                   3] takes a little time but ensure precision"
   ]
  },
  {
   "cell_type": "code",
   "execution_count": null,
   "id": "bddc6eec-fc9d-4f41-ac9e-c23aa2fd078c",
   "metadata": {},
   "outputs": [],
   "source": [
    "Q11) what are the purpose of conditional statements in python?\n",
    "Answer--> controlling the flow of a program based on specific conditions"
   ]
  },
  {
   "cell_type": "code",
   "execution_count": null,
   "id": "cfea2fc1-92f1-413c-8ae4-2f1240dbe821",
   "metadata": {},
   "outputs": [],
   "source": [
    "Q12) how does the elif statement work?\n",
    "Answer--> to test multiple conditions sequentially"
   ]
  },
  {
   "cell_type": "code",
   "execution_count": null,
   "id": "18ec2ac8-574b-410d-9a60-d306f77575f4",
   "metadata": {},
   "outputs": [],
   "source": [
    "Q13) what are the difference between for and while loops?\n",
    "Answer--> for loop : for loop is used to iterate over a sequence of items\n",
    "          while loop : while loop is used to repeatedly executes a block of statements while a condition is true"
   ]
  },
  {
   "cell_type": "code",
   "execution_count": null,
   "id": "db26bfd6-9192-4116-900b-f3b9f6c232ed",
   "metadata": {},
   "outputs": [],
   "source": [
    "Q14) describe a scenario where a while loop is more suitable than a for loop\n",
    "Answer-->    while True:\n",
    "                  try: \n",
    "                       user input = int(input(\"please enter a positive integer:\"))\n",
    "                       if user input > 0:\n",
    "                         print(\"you entered:{user input}\")\n",
    "                         break\n",
    "                       else:\n",
    "                          print(\"invalid input. please enter a positive integer\")\n"
   ]
  },
  {
   "cell_type": "code",
   "execution_count": null,
   "id": "511c613a-0890-4abf-b03e-a7c744976faa",
   "metadata": {},
   "outputs": [],
   "source": [
    "#practical Quections"
   ]
  },
  {
   "cell_type": "code",
   "execution_count": null,
   "id": "b9dbd8e0-cd6d-4007-9b6a-bcc2b6421035",
   "metadata": {},
   "outputs": [],
   "source": [
    "1 write a python program to print hello world"
   ]
  },
  {
   "cell_type": "code",
   "execution_count": 1,
   "id": "7ddeb0a6-5100-4a69-8665-ff694735ad27",
   "metadata": {},
   "outputs": [
    {
     "name": "stdout",
     "output_type": "stream",
     "text": [
      "hello world\n"
     ]
    }
   ],
   "source": [
    "print(\"hello world\")"
   ]
  },
  {
   "cell_type": "code",
   "execution_count": null,
   "id": "280be483-263f-470f-bfde-185db6af3d4b",
   "metadata": {},
   "outputs": [],
   "source": [
    "2 write a python program that display your name and age"
   ]
  },
  {
   "cell_type": "code",
   "execution_count": 2,
   "id": "89496eaa-0e90-4aaa-941a-23f0bb6c41d6",
   "metadata": {},
   "outputs": [
    {
     "name": "stdin",
     "output_type": "stream",
     "text": [
      "enter your name: rohit\n",
      "enter your age: 21\n"
     ]
    }
   ],
   "source": [
    "name = input(\"enter your name:\")\n",
    "age = input(\"enter your age:\")"
   ]
  },
  {
   "cell_type": "code",
   "execution_count": null,
   "id": "0b285e03-7a8e-468c-9b6d-ce7441cf0c28",
   "metadata": {},
   "outputs": [],
   "source": [
    "3 write a code to print all the pre-defined keywords in python using keyword library"
   ]
  },
  {
   "cell_type": "code",
   "execution_count": 6,
   "id": "84077889-f9c3-4814-b0e6-7e396d9c7719",
   "metadata": {},
   "outputs": [
    {
     "name": "stdout",
     "output_type": "stream",
     "text": [
      "predefined keywords in python:\n",
      "False\n",
      "None\n",
      "True\n",
      "and\n",
      "as\n",
      "assert\n",
      "async\n",
      "await\n",
      "break\n",
      "class\n",
      "continue\n",
      "def\n",
      "del\n",
      "elif\n",
      "else\n",
      "except\n",
      "finally\n",
      "for\n",
      "from\n",
      "global\n",
      "if\n",
      "import\n",
      "in\n",
      "is\n",
      "lambda\n",
      "nonlocal\n",
      "not\n",
      "or\n",
      "pass\n",
      "raise\n",
      "return\n",
      "try\n",
      "while\n",
      "with\n",
      "yield\n"
     ]
    }
   ],
   "source": [
    "import keyword\n",
    "python_keywords = keyword.kwlist\n",
    "print(\"predefined keywords in python:\")\n",
    "for kw in python_keywords:\n",
    "    print(kw)"
   ]
  },
  {
   "cell_type": "code",
   "execution_count": null,
   "id": "ead17869-627e-4f39-8cf2-45a020dab28c",
   "metadata": {},
   "outputs": [],
   "source": [
    "4 write a program that checks if a given word is a python keyword"
   ]
  },
  {
   "cell_type": "code",
   "execution_count": 9,
   "id": "c11d66ee-9e3b-4ee3-8c17-e4a2a7efcc05",
   "metadata": {},
   "outputs": [
    {
     "name": "stdin",
     "output_type": "stream",
     "text": [
      "enter a word to check: True\n"
     ]
    },
    {
     "name": "stdout",
     "output_type": "stream",
     "text": [
      "python keyword\n"
     ]
    }
   ],
   "source": [
    "import keyword\n",
    "word = input(\"enter a word to check:\")\n",
    "if keyword.iskeyword(word):\n",
    "    print(\"python keyword\")\n",
    "else:\n",
    "    print(\"is not a python keyword\")"
   ]
  },
  {
   "cell_type": "code",
   "execution_count": null,
   "id": "5d3b4b21-c2cf-4bf4-a4c4-427aa9901428",
   "metadata": {},
   "outputs": [],
   "source": [
    "5 create a list and tuple in python and demonstrate how attempting to change an element works differently for each"
   ]
  },
  {
   "cell_type": "code",
   "execution_count": 23,
   "id": "6a5b7962-f2b1-4c02-a5af-8047d8949a57",
   "metadata": {},
   "outputs": [
    {
     "name": "stdout",
     "output_type": "stream",
     "text": [
      "original list: [1, 2, 3, 4]\n",
      "modified list: [1, 2, 100, 4]\n"
     ]
    }
   ],
   "source": [
    "my_list = [1,2,3,4]\n",
    "print(\"original list:\",my_list)\n",
    "my_list[2] = 100\n",
    "print(\"modified list:\",my_list)"
   ]
  },
  {
   "cell_type": "code",
   "execution_count": 25,
   "id": "043b80fa-0439-46d9-b9d3-1229cb58edc4",
   "metadata": {},
   "outputs": [
    {
     "name": "stdout",
     "output_type": "stream",
     "text": [
      "original tuple: (100, 200, 300, 400)\n",
      "Error while modifiying tuple: 'tuple' object does not support item assignment\n"
     ]
    }
   ],
   "source": [
    "my_tuple = (100,200,300,400)\n",
    "print(\"original tuple:\", my_tuple)\n",
    "try:\n",
    "    my_tuple[2]=250\n",
    "except TypeError as e:\n",
    "    print(\"Error while modifiying tuple:\",e)"
   ]
  },
  {
   "cell_type": "code",
   "execution_count": null,
   "id": "525e06d2-3ec0-411d-a3dc-3a4a05fad5d6",
   "metadata": {},
   "outputs": [],
   "source": [
    "7 write a program that performs basic arithmetic opertions on user-input numbers."
   ]
  },
  {
   "cell_type": "code",
   "execution_count": 7,
   "id": "872bd2d9-6412-493a-ad34-cbff84c75f02",
   "metadata": {},
   "outputs": [
    {
     "name": "stdin",
     "output_type": "stream",
     "text": [
      "Enter first number:  5\n",
      "Enter second number:  2\n"
     ]
    },
    {
     "name": "stdout",
     "output_type": "stream",
     "text": [
      "\n",
      "Select Operation:\n",
      "1. Addition (+)\n",
      "2. Subtraction (-)\n",
      "3. Multiplication (*)\n",
      "4. Division (/)\n"
     ]
    },
    {
     "name": "stdin",
     "output_type": "stream",
     "text": [
      "\n",
      "Enter choice (1/2/3/4):  2\n"
     ]
    },
    {
     "name": "stdout",
     "output_type": "stream",
     "text": [
      "Result: 5.0 - 2.0 = 3.0\n"
     ]
    }
   ],
   "source": [
    "num1 = float(input(\"Enter first number: \"))\n",
    "num2 = float(input(\"Enter second number: \"))\n",
    "\n",
    "print(\"\\nSelect Operation:\")\n",
    "print(\"1. Addition (+)\")\n",
    "print(\"2. Subtraction (-)\")\n",
    "print(\"3. Multiplication (*)\")\n",
    "print(\"4. Division (/)\")\n",
    "\n",
    "choice = input(\"\\nEnter choice (1/2/3/4): \")\n",
    "\n",
    "if choice == '1':\n",
    "    print(f\"Result: {num1} + {num2} = {num1 + num2}\")\n",
    "elif choice == '2':\n",
    "    print(f\"Result: {num1} - {num2} = {num1 - num2}\")\n",
    "elif choice == '3':\n",
    "    print(f\"Result: {num1} * {num2} = {num1 * num2}\")\n",
    "elif choice == '4':\n",
    "    if num2 != 0:\n",
    "        print(f\"Result: {num1} / {num2} = {num1 / num2}\")\n",
    "    else:\n",
    "        print(\"Error: Division by zero is not allowed.\")\n",
    "else:\n",
    "    print(\"Invalid choice! Please select 1, 2, 3, or 4.\")\n"
   ]
  },
  {
   "cell_type": "code",
   "execution_count": null,
   "id": "ef51cd92-46cb-4337-b52a-b21818f65dde",
   "metadata": {},
   "outputs": [],
   "source": [
    "8 write a for loop to print numbers from 1 to 10"
   ]
  },
  {
   "cell_type": "code",
   "execution_count": 10,
   "id": "b853a4a8-3499-43d4-8f06-2edd5509e5d8",
   "metadata": {},
   "outputs": [
    {
     "name": "stdout",
     "output_type": "stream",
     "text": [
      "1\n",
      "2\n",
      "3\n",
      "4\n",
      "5\n",
      "6\n",
      "7\n",
      "8\n",
      "9\n",
      "10\n"
     ]
    }
   ],
   "source": [
    "for i  in range(1,11):\n",
    "    print(i)\n"
   ]
  },
  {
   "cell_type": "code",
   "execution_count": null,
   "id": "38f17e93-7510-4240-8592-5425c1c3cd0d",
   "metadata": {},
   "outputs": [],
   "source": [
    "9 write a python program to find the sum of all even number between 1 to 50"
   ]
  },
  {
   "cell_type": "code",
   "execution_count": 24,
   "id": "55ab50ef-173f-4286-9e5c-61921ffb0f40",
   "metadata": {},
   "outputs": [
    {
     "name": "stdout",
     "output_type": "stream",
     "text": [
      "2\n",
      "4\n",
      "6\n",
      "8\n",
      "10\n",
      "12\n",
      "14\n",
      "16\n",
      "18\n",
      "20\n",
      "22\n",
      "24\n",
      "26\n",
      "28\n",
      "30\n",
      "32\n",
      "34\n",
      "36\n",
      "38\n",
      "40\n",
      "42\n",
      "44\n",
      "46\n",
      "48\n",
      "50\n"
     ]
    }
   ],
   "source": [
    "for num in range(1,51):\n",
    "    if num % 2 ==0:\n",
    "        print(num)"
   ]
  },
  {
   "cell_type": "code",
   "execution_count": null,
   "id": "57dcb3d3-3282-4b5e-b21d-073765b3c908",
   "metadata": {},
   "outputs": [],
   "source": [
    "10 write a program to reverse a string using a while loop"
   ]
  },
  {
   "cell_type": "code",
   "execution_count": 31,
   "id": "8c541fa1-ec36-4bad-879d-f168454d90e2",
   "metadata": {},
   "outputs": [
    {
     "name": "stdout",
     "output_type": "stream",
     "text": [
      "Reversed string: tihor\n"
     ]
    }
   ],
   "source": [
    "s = (\"rohit\")\n",
    "rev = \"\"\n",
    "i = len(s) - 1\n",
    "\n",
    "while i >= 0:\n",
    "    rev = rev + s[i]\n",
    "    i = i - 1\n",
    "\n",
    "print(\"Reversed string:\", rev)\n"
   ]
  },
  {
   "cell_type": "code",
   "execution_count": null,
   "id": "e388edd7-ba5a-471a-8038-c031bc78b3a1",
   "metadata": {},
   "outputs": [],
   "source": []
  }
 ],
 "metadata": {
  "kernelspec": {
   "display_name": "Python 3 (ipykernel)",
   "language": "python",
   "name": "python3"
  },
  "language_info": {
   "codemirror_mode": {
    "name": "ipython",
    "version": 3
   },
   "file_extension": ".py",
   "mimetype": "text/x-python",
   "name": "python",
   "nbconvert_exporter": "python",
   "pygments_lexer": "ipython3",
   "version": "3.13.5"
  }
 },
 "nbformat": 4,
 "nbformat_minor": 5
}

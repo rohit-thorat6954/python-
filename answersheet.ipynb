{
 "cells": [
  {
   "cell_type": "code",
   "execution_count": null,
   "id": "0ab3cc9c-0a7e-4de9-80c4-be3f46e7efba",
   "metadata": {},
   "outputs": [],
   "source": [
    "Q 1) what is the difference between interpreted and compiled languages?\n",
    ">> 1 interpreted languages executed line by line at runtime\n",
    "   2 compiled languages translated into machine code before execution"
   ]
  },
  {
   "cell_type": "code",
   "execution_count": null,
   "id": "0da85111-84db-4afe-8891-05adbb963818",
   "metadata": {},
   "outputs": [],
   "source": [
    "Q 2) what is exception handling in python\n",
    ">> it manage runtime errors "
   ]
  },
  {
   "cell_type": "code",
   "execution_count": null,
   "id": "1897f20b-ad9f-4b6b-96fa-ccd355113565",
   "metadata": {},
   "outputs": [],
   "source": [
    "Q 3) what is the purpose of the finally block in exception handling?\n",
    ">> purpose of finally block is code is runs no matter what happens in the try or except block"
   ]
  },
  {
   "cell_type": "code",
   "execution_count": null,
   "id": "a3a18d69-4852-4f9e-a0c8-db6aba552321",
   "metadata": {},
   "outputs": [],
   "source": [
    "Q 4) what is logging in python?\n",
    ">> logging means writing messages about what your program is doing"
   ]
  },
  {
   "cell_type": "code",
   "execution_count": null,
   "id": "b33150ef-ab0d-4f19-9dd4-024325468255",
   "metadata": {},
   "outputs": [],
   "source": [
    "Q 5) what is the significance of the __del__ method in python?\n",
    ">> is a special method in python that is called when an object is about to be destroyed or garbage collected"
   ]
  },
  {
   "cell_type": "code",
   "execution_count": null,
   "id": "90a24d01-16b1-4c7d-86f9-635c018da81b",
   "metadata": {},
   "outputs": [],
   "source": [
    "Q 6) what is the difference between import and from import in python?\n",
    ">> import imports an entire module\n",
    "   from import imports specific attributes from a module"
   ]
  },
  {
   "cell_type": "code",
   "execution_count": null,
   "id": "061fb887-177e-431c-94c2-0ed6bb7eef54",
   "metadata": {},
   "outputs": [],
   "source": [
    "Q 7) how can you handle multiple exceptions in python?\n",
    ">> using single except block or by using multiple except blocks"
   ]
  },
  {
   "cell_type": "code",
   "execution_count": null,
   "id": "405c2d15-17c4-4763-849a-2c6b466c23d2",
   "metadata": {},
   "outputs": [],
   "source": [
    "Q 8) what is the purpose of the with statement when handling files in python?\n",
    ">> it ensure that file is properly closed"
   ]
  },
  {
   "cell_type": "code",
   "execution_count": null,
   "id": "1f9540be-e493-4e15-b7f2-c6fd905a7068",
   "metadata": {},
   "outputs": [],
   "source": [
    "Q 9) what is the difference between multithreading and multiprocessing?\n",
    ">> 1 multithreading > 1 shared memory space 2 economical process creation 3 I/O bound tasks\n",
    "   2 mutiprocessing > 1 separate memory space 2 costly 3 CPU bound tasks"
   ]
  },
  {
   "cell_type": "code",
   "execution_count": null,
   "id": "5efaf871-3643-4241-abe4-b6e42e695b73",
   "metadata": {},
   "outputs": [],
   "source": [
    "Q 10) what are the advantages of using logging in a program?\n",
    ">> 1 debugging\n",
    "   2 performance monitoring\n",
    "   3 flexiblity and control"
   ]
  },
  {
   "cell_type": "code",
   "execution_count": null,
   "id": "9bc2f9f5-d088-475e-a407-15e9201b2c6a",
   "metadata": {},
   "outputs": [],
   "source": [
    "Q 11) what is memory management in python?\n",
    ">> memory management in python is the process of allocating and deallocating memory for objects and data structures during progrm execution"
   ]
  },
  {
   "cell_type": "code",
   "execution_count": null,
   "id": "d3dfda3d-8cc6-42d9-ae5b-e7f1465b9191",
   "metadata": {},
   "outputs": [],
   "source": [
    "Q 12) what are the basic steps involved in exception handling in python?\n",
    ">> 1 try block\n",
    "   2 except block\n",
    "   3 else block\n",
    "   4 finally block"
   ]
  },
  {
   "cell_type": "code",
   "execution_count": null,
   "id": "cf3f1c57-e5a8-4c20-a4fb-69dc24dfa74a",
   "metadata": {},
   "outputs": [],
   "source": [
    "Q 13) why is memory management important in python?\n",
    ">> it ensures the efficient use of memory resources"
   ]
  },
  {
   "cell_type": "code",
   "execution_count": null,
   "id": "3241f802-2f21-420c-a11f-9419a417c04e",
   "metadata": {},
   "outputs": [],
   "source": [
    "Q 14) what is the role of try and except in exception handling\n",
    ">> try block contains the code that raise an error during execution\n",
    "    except block it allows the program to handle the error without crashing"
   ]
  },
  {
   "cell_type": "code",
   "execution_count": null,
   "id": "7b3bfc5d-e340-4515-9e35-6b3ff0c717e3",
   "metadata": {},
   "outputs": [],
   "source": [
    "Q 15) how does python's garbage collection system works?\n",
    ">> is an automatic memory management process that frees up memory by deleting objects that are no longer in use"
   ]
  },
  {
   "cell_type": "code",
   "execution_count": null,
   "id": "81b10220-2f9f-4171-bc56-11c2597cf017",
   "metadata": {},
   "outputs": [],
   "source": [
    "Q 16) what is the importance of closing a file in python? \n",
    ">> is important to ensure data integrity and free up system resources"
   ]
  },
  {
   "cell_type": "code",
   "execution_count": null,
   "id": "1d798561-656c-422d-a170-4ba12ecd2d2c",
   "metadata": {},
   "outputs": [],
   "source": [
    "PRACTICAL QUESTIONS "
   ]
  },
  {
   "cell_type": "code",
   "execution_count": null,
   "id": "b91f1311-864b-464f-a388-bb3439802f80",
   "metadata": {},
   "outputs": [],
   "source": [
    "Q1) how can you open a file for writing in python and write a string to it?"
   ]
  },
  {
   "cell_type": "code",
   "execution_count": 1,
   "id": "1ac1977f-cf20-405a-b900-facd13901349",
   "metadata": {},
   "outputs": [],
   "source": [
    "with open(\"my_file.txt\",\"w\") as file:\n",
    "    file.write(\"hello,world\")"
   ]
  },
  {
   "cell_type": "code",
   "execution_count": null,
   "id": "7e1bc29d-cb22-4837-9333-ab7f9d38414d",
   "metadata": {},
   "outputs": [],
   "source": [
    "Q2) write a python program to read the contents of a file and print each line"
   ]
  },
  {
   "cell_type": "code",
   "execution_count": null,
   "id": "2602d0e8-5583-4625-a60a-02bbe190b34c",
   "metadata": {},
   "outputs": [],
   "source": [
    "with open(\"my_file.txt\",\"r\") as file:\n",
    "    for line in file:\n",
    "        print(line, end='')"
   ]
  },
  {
   "cell_type": "code",
   "execution_count": null,
   "id": "d4f9bb86-3bf9-4dd3-88a4-40b7ce09d168",
   "metadata": {},
   "outputs": [],
   "source": [
    "Q3) how would you handle a case where the file doesn't exist while trying to open it for reading?"
   ]
  },
  {
   "cell_type": "code",
   "execution_count": null,
   "id": "fbed7f62-aa27-46f1-9fe1-a412c4eff421",
   "metadata": {},
   "outputs": [],
   "source": [
    "try:\n",
    "    with open('non_existent_file.txt', 'r') as file:\n",
    "        content = file.read()\n",
    "        print(content)\n",
    "except FileNotFoundError:\n",
    "    print(\"Error: the file was not found.\")"
   ]
  },
  {
   "cell_type": "code",
   "execution_count": null,
   "id": "eb5dd91c-5f8c-4a2f-a47e-854a013facc0",
   "metadata": {},
   "outputs": [],
   "source": [
    "Q4) write a python script that reads from one file doesn't exist while triying to open it for reading?"
   ]
  },
  {
   "cell_type": "code",
   "execution_count": null,
   "id": "1b811fa1-9544-4e05-b180-6f0384984f4b",
   "metadata": {},
   "outputs": [],
   "source": [
    "import os\n",
    "file_path = 'non_existent_file_txt'\n",
    "if os.path.exists(file_path):\n",
    "    with open(file_path, 'r') as file:\n",
    "        content = file.read()\n",
    "        print(content)\n",
    "else:\n",
    "    print(f\"Error: the file '{file_path}' does not exist.\")"
   ]
  },
  {
   "cell_type": "code",
   "execution_count": null,
   "id": "612661b3-e342-469a-b850-de58e6009171",
   "metadata": {},
   "outputs": [],
   "source": [
    "Q5) how would you catch and handle division by zero error in python?"
   ]
  },
  {
   "cell_type": "code",
   "execution_count": null,
   "id": "24ed9b49-ecb7-443d-bf01-00fb03858cf1",
   "metadata": {},
   "outputs": [],
   "source": [
    "try:\n",
    "    10/0\n",
    "except Exception as e:\n",
    "     print (e)"
   ]
  },
  {
   "cell_type": "code",
   "execution_count": null,
   "id": "d924664e-9802-4fdc-adc7-4edfc1ee5205",
   "metadata": {},
   "outputs": [],
   "source": [
    "Q6) write a program to handle a file opening error using exception handling"
   ]
  },
  {
   "cell_type": "code",
   "execution_count": null,
   "id": "077dd7a1-d9b0-4cd5-a3af-ba519471b527",
   "metadata": {},
   "outputs": [],
   "source": [
    "def open_file_with_exception_handling(filename):\n",
    "    try:\n",
    "        with open(filename, 'r') as file:\n",
    "            print(f\"Successfully opened the file: {filename}\")\n",
    "    except FileNotFoundError:\n",
    "        print(f\"Error: The file '{filename}' was not found.\")\n",
    "    except Exception as e:\n",
    "        print(f\"An unexpected error occurred: {e}\")"
   ]
  },
  {
   "cell_type": "code",
   "execution_count": null,
   "id": "36b4e5d9-0594-405b-9bcf-d412405af71f",
   "metadata": {},
   "outputs": [],
   "source": [
    "Q7) how can you read a file line by line and store its content in a list in python?"
   ]
  },
  {
   "cell_type": "code",
   "execution_count": null,
   "id": "3a710f88-b997-453a-851d-9e00c0bfa6db",
   "metadata": {},
   "outputs": [],
   "source": [
    "with open('your_file_name.txt', 'r') as file:\n",
    "    lines = [line.strip() for line in file]\n",
    "print(lines)"
   ]
  },
  {
   "cell_type": "code",
   "execution_count": null,
   "id": "2c407700-d903-4e17-93b2-d97b862ebdad",
   "metadata": {},
   "outputs": [],
   "source": [
    "Q8) how can you append data to an existing file in python?"
   ]
  },
  {
   "cell_type": "code",
   "execution_count": null,
   "id": "66bb9521-ddc8-4da5-be91-e2aedfeee727",
   "metadata": {},
   "outputs": [],
   "source": [
    "with open('filename.txt', 'a') as file:\n",
    "    file.write('data to append.')"
   ]
  },
  {
   "cell_type": "code",
   "execution_count": null,
   "id": "4ab1ea64-5b47-40f8-95a4-f019cc301d94",
   "metadata": {},
   "outputs": [],
   "source": [
    "Q9) write a program that demonstrates using multiple except blocks to handle different types of exceptions"
   ]
  },
  {
   "cell_type": "code",
   "execution_count": null,
   "id": "fa3fd2e9-520d-4445-b86d-297189ad4ded",
   "metadata": {},
   "outputs": [],
   "source": [
    "def handle_exceptions(data_list, index):\n",
    "    try:\n",
    "        value = data_list[index]\n",
    "        result = 10 / value\n",
    "        print(f\"The result is: {result}\")\n",
    "    except IndexError:\n",
    "        print(\"Error: The index is out of range.\")\n",
    "    except ZeroDivisionError:\n",
    "        print(\"Error: Division by zero is not allowed.\")\n",
    "    except TypeError:\n",
    "        print(\"Error: The list element is not a number.\")\n",
    "    except Exception as e:\n",
    "        print(f\"An unexpected error occurred: {e}\")"
   ]
  },
  {
   "cell_type": "code",
   "execution_count": null,
   "id": "c1f985fc-5c00-40f1-8382-4a58bea07090",
   "metadata": {},
   "outputs": [],
   "source": [
    "Q10) how whould you check if a file exists before attempting to read it in python?"
   ]
  },
  {
   "cell_type": "code",
   "execution_count": null,
   "id": "27586ee3-f3d4-4d0e-ac72-b347afc761c8",
   "metadata": {},
   "outputs": [],
   "source": [
    "import os\n",
    "file_path = 'my_file.txt'\n",
    "if os.path.exists(file_path):\n",
    "    with open(file_path, 'r') as f:\n",
    "        content = f.read()\n",
    "        print(\"File content:\", content)\n",
    "else:\n",
    "    print(\"Error: The file does not exist.\")"
   ]
  },
  {
   "cell_type": "code",
   "execution_count": null,
   "id": "ced9f72e-7c61-46f0-993c-2d33e774c4e3",
   "metadata": {},
   "outputs": [],
   "source": [
    "Q11) write a python program that prints the content of file and handlesbthe cases when the file is empty"
   ]
  },
  {
   "cell_type": "code",
   "execution_count": null,
   "id": "0494c5fe-55af-42c5-bd39-e1b081d12b57",
   "metadata": {},
   "outputs": [],
   "source": [
    "import os\n",
    "def print_file_content(filename):\n",
    "    try:\n",
    "        with open(filename, 'r') as file:\n",
    "            content = file.read()\n",
    "            if content:\n",
    "                print(f\"--- Content of '{filename}' ---\")\n",
    "                print(content)\n",
    "            else:\n",
    "                print(f\"The file '{filename}' is empty.\")\n",
    "    except FileNotFoundError:\n",
    "        print(f\"Error: The file '{filename}' was not found.\")"
   ]
  },
  {
   "cell_type": "code",
   "execution_count": null,
   "id": "8d9c1afd-8b31-45f2-8d6a-c5900f778c2e",
   "metadata": {},
   "outputs": [],
   "source": [
    "Q12)demonstrate how to use memory  profilling to check the memory usage of a small program"
   ]
  },
  {
   "cell_type": "code",
   "execution_count": null,
   "id": "72ff265b-30a4-452f-9765-6d9e54bea418",
   "metadata": {},
   "outputs": [],
   "source": [
    "def my_function():\n",
    "    a = [1] * (10 ** 6)\n",
    "    b = [2] * (2 * 10 ** 6)\n",
    "    del b\n",
    "    return a\n",
    "if _name_ == '__main__':\n",
    "    my_function()"
   ]
  },
  {
   "cell_type": "code",
   "execution_count": null,
   "id": "9ca93f19-c45d-4b9d-b624-fc098827fc03",
   "metadata": {},
   "outputs": [],
   "source": [
    "Q13) write a python program to create and write a list of numbers to a file,one number per line"
   ]
  },
  {
   "cell_type": "code",
   "execution_count": null,
   "id": "d608273f-a574-4856-9f8b-29cdf5d7f188",
   "metadata": {},
   "outputs": [],
   "source": [
    "numbers = [10,20,30,40,50]\n",
    "with open('numbers.txt','w') as file:\n",
    "    for number in numbers:\n",
    "        file.write(str(number) + '\\n')"
   ]
  },
  {
   "cell_type": "code",
   "execution_count": null,
   "id": "1004abce-fee9-4216-8415-6a43aba41cd4",
   "metadata": {},
   "outputs": [],
   "source": [
    "Q14) how would you open a file and read its contents using a context manager in python"
   ]
  },
  {
   "cell_type": "code",
   "execution_count": null,
   "id": "6b6fb4f4-423a-4d00-8acb-241112854130",
   "metadata": {},
   "outputs": [],
   "source": [
    "with open('filename.txt', 'r') as file:\n",
    "    contents = file.read()\n",
    "    print(contents)"
   ]
  },
  {
   "cell_type": "code",
   "execution_count": null,
   "id": "21c2fb04-6903-49e5-a567-52981da16505",
   "metadata": {},
   "outputs": [],
   "source": [
    "Q15) how can you check if a file is empty before attempting to read its contents"
   ]
  },
  {
   "cell_type": "code",
   "execution_count": null,
   "id": "f58ceff0-5aed-44d7-b59d-820d8557caf3",
   "metadata": {},
   "outputs": [],
   "source": [
    "import os \n",
    "file_path = 'your_file.txt'\n",
    "\n",
    "if os.path.getsize(file_path) == 0:\n",
    "    print(\"the file is empty\")\n",
    "else:\n",
    "    print(\"the file is not empty\")"
   ]
  },
  {
   "cell_type": "code",
   "execution_count": null,
   "id": "66820f4b-1040-41d3-80d3-c537d9451ca1",
   "metadata": {},
   "outputs": [],
   "source": []
  },
  {
   "cell_type": "code",
   "execution_count": null,
   "id": "879d96d1-ff6b-4c62-aaa2-253161ad8977",
   "metadata": {},
   "outputs": [],
   "source": []
  },
  {
   "cell_type": "code",
   "execution_count": null,
   "id": "e11ca53f-998c-4639-9394-f7b0207d59cd",
   "metadata": {},
   "outputs": [],
   "source": []
  }
 ],
 "metadata": {
  "kernelspec": {
   "display_name": "Python 3 (ipykernel)",
   "language": "python",
   "name": "python3"
  },
  "language_info": {
   "codemirror_mode": {
    "name": "ipython",
    "version": 3
   },
   "file_extension": ".py",
   "mimetype": "text/x-python",
   "name": "python",
   "nbconvert_exporter": "python",
   "pygments_lexer": "ipython3",
   "version": "3.13.5"
  }
 },
 "nbformat": 4,
 "nbformat_minor": 5
}

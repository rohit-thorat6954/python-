{
 "cells": [
  {
   "cell_type": "code",
   "execution_count": null,
   "id": "8b20f80f-0f4c-41f5-8724-9bd9e4c37320",
   "metadata": {},
   "outputs": [],
   "source": []
  },
  {
   "cell_type": "code",
   "execution_count": null,
   "id": "dd7a8889-8842-40e5-a05c-baeddf2c4e39",
   "metadata": {},
   "outputs": [],
   "source": [
    "Q 1) what is object-oriented programming (OOP)?\n",
    ">> is a object that uses \"Objects\" to design application and computer programs"
   ]
  },
  {
   "cell_type": "code",
   "execution_count": null,
   "id": "401f169b-6a9c-4331-8e88-31f8ea04a679",
   "metadata": {},
   "outputs": [],
   "source": [
    "Q 2) what is a class in OOP?\n",
    ">> is a blueprint or a template for creating objects"
   ]
  },
  {
   "cell_type": "code",
   "execution_count": null,
   "id": "8956c001-c774-4327-b966-3564474ae894",
   "metadata": {},
   "outputs": [],
   "source": [
    "Q 3) what is an object in OOP?\n",
    ">> An object is an instance of a class"
   ]
  },
  {
   "cell_type": "code",
   "execution_count": null,
   "id": "bab62457-43a0-4b27-a1d3-ced594e1a277",
   "metadata": {},
   "outputs": [],
   "source": [
    "Q 4) what is the difference between abstraction and encapsulation?\n",
    ">> Abstraction >> is the process of hiding the complex implementation details and showing only necessary feature of an object\n",
    "   encapsulation >> bundles data and methods together to control access"
   ]
  },
  {
   "cell_type": "code",
   "execution_count": null,
   "id": "8790b4e9-75dc-4e11-95fd-41b9325b72db",
   "metadata": {},
   "outputs": [],
   "source": [
    "Q 5) what are dunder methods in python?\n",
    ">> is a special methods that have double underscores at the beginning and end of their names"
   ]
  },
  {
   "cell_type": "code",
   "execution_count": null,
   "id": "9bf60000-fc38-452c-b360-1a86d108071c",
   "metadata": {},
   "outputs": [],
   "source": [
    "Q 6) Explain the concept of inheritance in OOP\n",
    ">> that allows a new class to inherit properties and methods from an existing class"
   ]
  },
  {
   "cell_type": "code",
   "execution_count": null,
   "id": "6ed6fcce-a682-44f9-84e9-124629ccb806",
   "metadata": {},
   "outputs": [],
   "source": [
    "Q 7) what is polymorphism in OOP?\n",
    ">> polymorphism = poly means (many) and morph (forms)\n",
    "    this means a single interface can be used to represent different underlying forms or data types"
   ]
  },
  {
   "cell_type": "code",
   "execution_count": null,
   "id": "80131fbc-efa4-42a3-bd40-f70aa25efe85",
   "metadata": {},
   "outputs": [],
   "source": [
    "Q 8) how is encapsulation achieved in python?\n",
    ">> using classes and accesss modifiers"
   ]
  },
  {
   "cell_type": "code",
   "execution_count": null,
   "id": "c9af8515-ecd5-4bfd-ac6b-87ce69b389ea",
   "metadata": {},
   "outputs": [],
   "source": [
    "Q 9) what is a constructor in python?\n",
    ">> is a automatically called when a new object is created from a class\n",
    "   __init__()"
   ]
  },
  {
   "cell_type": "code",
   "execution_count": null,
   "id": "f967f796-d7ea-442d-bed3-cb975f785250",
   "metadata": {},
   "outputs": [],
   "source": [
    "Q 10) what are class and static methods in python?\n",
    ">> a class method is a method that is bound to the class and receives the class itself as the first argument\n",
    "   a static method is a method that is not bound to either the class or an instance of the class"
   ]
  },
  {
   "cell_type": "code",
   "execution_count": null,
   "id": "c48803a4-d544-431d-9fc0-edce91bfd8b4",
   "metadata": {},
   "outputs": [],
   "source": [
    "Q 11) what is method overriding in OOP?\n",
    ">> that allows a subclass or child class to provide a specific implementation of a method that is already defined in its superclass or parent class"
   ]
  },
  {
   "cell_type": "code",
   "execution_count": null,
   "id": "a8766ff5-a4e8-4982-b649-f2b49dca2d56",
   "metadata": {},
   "outputs": [],
   "source": [
    "Q 12) what is method overloading in python?"
   ]
  },
  {
   "cell_type": "code",
   "execution_count": null,
   "id": "47ee1ff4-edee-4322-9898-c0d6a8c80160",
   "metadata": {},
   "outputs": [],
   "source": [
    "Q 13) what is the property decorator in python?\n",
    ">> is a built-in decorator that allows you to define methods in a class"
   ]
  },
  {
   "cell_type": "code",
   "execution_count": null,
   "id": "3a9ac50c-0560-488b-9e65-6ae53425862e",
   "metadata": {},
   "outputs": [],
   "source": [
    "Q 14) why is polymorphism important in OOP?\n",
    ">> because it allows for code flexiblity,reusability,and extensibility"
   ]
  },
  {
   "cell_type": "code",
   "execution_count": null,
   "id": "5d2efe77-2276-4525-b555-9f58ae4274f7",
   "metadata": {},
   "outputs": [],
   "source": [
    "Q 15) what is an abstract class in python?\n",
    ">> An abstract class is a blueprint for other classes "
   ]
  },
  {
   "cell_type": "code",
   "execution_count": null,
   "id": "8db86f87-ce10-49a3-b622-7f04bbc8e81c",
   "metadata": {},
   "outputs": [],
   "source": [
    "Q 16) what are the advantages of OOP?\n",
    ">> Modularity >> OOP allows code to be organized into self-contained objects\n",
    "   Data Security >> Encapsulation helps to protect data from unauthorized access\n",
    "   Resusability "
   ]
  },
  {
   "cell_type": "code",
   "execution_count": null,
   "id": "4230cdd0-f59f-48f9-9854-3367d7598aba",
   "metadata": {},
   "outputs": [],
   "source": [
    "Q 17) what is the difference between a class variables and an instance variable?\n",
    ">> class variables are shared by all instance of a class\n",
    "   instance variables are unique to each instance"
   ]
  },
  {
   "cell_type": "code",
   "execution_count": null,
   "id": "9cee637c-2173-414f-993a-8d4a981f8c4d",
   "metadata": {},
   "outputs": [],
   "source": [
    "Q 18) what is multiple inheritance in python?\n",
    ">> a class can inherit attributes and methods from more than one parent class"
   ]
  },
  {
   "cell_type": "code",
   "execution_count": null,
   "id": "4926acf6-940d-4b07-bfa6-58704bafe6f7",
   "metadata": {},
   "outputs": [],
   "source": [
    "Q 19) Explain the purpose of \"__str__'and'__repr__\"methods in python\n",
    ">> are used to proide string representation of object"
   ]
  },
  {
   "cell_type": "code",
   "execution_count": null,
   "id": "03e78441-f352-4bb4-96a1-1ced6dfc1a19",
   "metadata": {},
   "outputs": [],
   "source": [
    "Q 20) what is the significance of the 'super()' function in python?\n",
    ">> to call a method from a parent class within a subclass"
   ]
  },
  {
   "cell_type": "code",
   "execution_count": null,
   "id": "db634279-bf9a-4e73-86e1-0f72b2d4fe75",
   "metadata": {},
   "outputs": [],
   "source": [
    "Q 21) what is the significance of the __del__ method in python?\n",
    ">> is called when an object is about to be destroyed or garbage-collected"
   ]
  },
  {
   "cell_type": "code",
   "execution_count": null,
   "id": "52b9877a-3e54-4000-a1d6-1f677f2db5a3",
   "metadata": {},
   "outputs": [],
   "source": [
    "Q 22) how does polymorphism work in python with inheritance?\n",
    ">> allows objects of a different classes to be treated as objects of a common superclass"
   ]
  },
  {
   "cell_type": "code",
   "execution_count": null,
   "id": "64d82269-8604-4ee9-b7a9-94f31fedc172",
   "metadata": {},
   "outputs": [],
   "source": [
    "Q 23) what is method chaining in python OOP?\n",
    ">> is a sequence of method calls on a single object"
   ]
  },
  {
   "cell_type": "code",
   "execution_count": null,
   "id": "3511a426-5ed4-48d4-9399-5e4073a5966e",
   "metadata": {},
   "outputs": [],
   "source": [
    "Q 24) what is the purpose of the __call__ method in python?\n",
    ">> allows an instance of a class to be called as if it were a function"
   ]
  },
  {
   "cell_type": "code",
   "execution_count": null,
   "id": "b601036d-fc7e-4da3-972c-20f6a6d178c9",
   "metadata": {},
   "outputs": [],
   "source": [
    " # PRACTICAL QUESTIONS"
   ]
  },
  {
   "cell_type": "code",
   "execution_count": null,
   "id": "96c802e3-0e7b-4a4d-9dbc-951542a15cda",
   "metadata": {},
   "outputs": [],
   "source": [
    "Q 1) write a parent class Animal with a method speak() that prints a generic message. create a child class Dog that overrides the speak() method to\n",
    "      print \"Bark\"."
   ]
  },
  {
   "cell_type": "code",
   "execution_count": 1,
   "id": "9b2df182-8d9a-4a7a-b7f6-81accc8c4793",
   "metadata": {},
   "outputs": [],
   "source": [
    "class Animal:\n",
    "    def speak(self):\n",
    "        print(\"I am an animal.\")\n",
    "class Dog(Animal):\n",
    "    def speak(self):\n",
    "        print(\"Bark\")"
   ]
  },
  {
   "cell_type": "code",
   "execution_count": 2,
   "id": "57e6c0c5-fdf1-47c9-9c09-957d9136c691",
   "metadata": {},
   "outputs": [],
   "source": [
    "animal = Animal()\n",
    "dog = Dog()"
   ]
  },
  {
   "cell_type": "code",
   "execution_count": 3,
   "id": "9304be83-5385-4599-a113-d6748b479061",
   "metadata": {},
   "outputs": [
    {
     "name": "stdout",
     "output_type": "stream",
     "text": [
      "I am an animal.\n"
     ]
    }
   ],
   "source": [
    "animal.speak()"
   ]
  },
  {
   "cell_type": "code",
   "execution_count": 4,
   "id": "52e8da5f-d23b-4571-8516-8f4d1914fb44",
   "metadata": {},
   "outputs": [
    {
     "name": "stdout",
     "output_type": "stream",
     "text": [
      "Bark\n"
     ]
    }
   ],
   "source": [
    "dog.speak()"
   ]
  },
  {
   "cell_type": "code",
   "execution_count": null,
   "id": "048b30f6-ccd5-4225-8433-b6bcbc44ac6b",
   "metadata": {},
   "outputs": [],
   "source": [
    "Q 2) write a program to create an abstract an abstract class shape with a method area().Derive classes Circle and Rectangle from \n",
    "     it and implement the area() method in both"
   ]
  },
  {
   "cell_type": "code",
   "execution_count": 5,
   "id": "8aa62af5-6fc0-4454-b12c-40b022b8d1ec",
   "metadata": {},
   "outputs": [],
   "source": [
    "from abc import ABC"
   ]
  },
  {
   "cell_type": "code",
   "execution_count": 6,
   "id": "6a6cab04-4b51-4152-b87e-9565678331a2",
   "metadata": {},
   "outputs": [],
   "source": [
    "import math"
   ]
  },
  {
   "cell_type": "code",
   "execution_count": 11,
   "id": "31eeb282-8b12-4964-a384-10047c8c2563",
   "metadata": {},
   "outputs": [],
   "source": [
    "class Shape(ABC):\n",
    "    def area(self):\n",
    "        pass  \n",
    "        \n",
    "class Circle(Shape):\n",
    "    def __init__(self, radius):\n",
    "         self.radius = radius\n",
    "    def area(self):\n",
    "        return math.pi * self.radius**2\n",
    "        \n",
    "class Rectangle(Shape):\n",
    "    def __init__(self, length, width):\n",
    "        self.length = length\n",
    "        self.width = width\n",
    "    def area(self):\n",
    "        return self.length * self.width"
   ]
  },
  {
   "cell_type": "code",
   "execution_count": 12,
   "id": "e9fd2345-d1d2-4bc2-a695-ffbcb857d7fd",
   "metadata": {},
   "outputs": [
    {
     "name": "stdout",
     "output_type": "stream",
     "text": [
      "the area of the circle is:78.53981633974483\n"
     ]
    }
   ],
   "source": [
    "circle = Circle(5)\n",
    "print(f\"the area of the circle is:{circle.area()}\")"
   ]
  },
  {
   "cell_type": "code",
   "execution_count": 13,
   "id": "cefd61b6-16dd-42bc-b2a0-52ea722435f5",
   "metadata": {},
   "outputs": [
    {
     "name": "stdout",
     "output_type": "stream",
     "text": [
      "the area of the reactangle is: 24\n"
     ]
    }
   ],
   "source": [
    "rectangle = Rectangle(4, 6)\n",
    "print(f\"the area of the reactangle is: {rectangle.area()}\")"
   ]
  },
  {
   "cell_type": "code",
   "execution_count": null,
   "id": "5fc0c0e9-6fc1-4a62-96dc-5b7e402899cc",
   "metadata": {},
   "outputs": [],
   "source": [
    "Q 3) implement a multi-level inheritance scenario where a class Vehical has an attribute type. Derive a class Car and further\n",
    "     derive a class ElectricCar that adds a battery attribute"
   ]
  },
  {
   "cell_type": "code",
   "execution_count": 1,
   "id": "1190e5df-236a-4ab6-bab2-121b3c017582",
   "metadata": {},
   "outputs": [],
   "source": [
    "class Vehical:\n",
    "    def __init__(self, type):\n",
    "        self.type = type\n",
    "class Car(Vehical):\n",
    "    def __init__(self, type, brand):\n",
    "        super().__init__(type)\n",
    "        self.brand = brand\n",
    "\n",
    "    def drive(self):\n",
    "        print(f\"the {self.brand} car is driving.\")\n",
    "\n",
    "class ElectricCar(Car):\n",
    "    def __init__(self, type, brand, battery_kwh):\n",
    "        super().__init__(type, brand)\n",
    "        self.battery_kwh = battery_kwh\n",
    "\n",
    "    def charge(self):\n",
    "        print(f\"the electric car is charging its {self.battery_kwh} kwh battery.\")"
   ]
  },
  {
   "cell_type": "code",
   "execution_count": 2,
   "id": "e3cafac3-d20b-4a3d-bf1b-f8bfc11c0735",
   "metadata": {},
   "outputs": [
    {
     "name": "stdout",
     "output_type": "stream",
     "text": [
      "the Tesla car is driving.\n",
      "the electric car is charging its 100 kwh battery.\n",
      "my EV type is a Electric vehical.\n"
     ]
    }
   ],
   "source": [
    "my_ev = ElectricCar(\"Electric\", \"Tesla\", 100)\n",
    "\n",
    "my_ev.drive()\n",
    "my_ev.charge()\n",
    "\n",
    "print(f\"my EV type is a {my_ev.type} vehical.\")"
   ]
  },
  {
   "cell_type": "code",
   "execution_count": null,
   "id": "4f25e533-b2b0-468f-811d-c00029b6cf1b",
   "metadata": {},
   "outputs": [],
   "source": [
    "Q 4) Demonstrate polymorphism by creating a basse class Bird with a method fly(). create two derived classes\n",
    "    sparrow and penguin that override the fly() method"
   ]
  },
  {
   "cell_type": "code",
   "execution_count": 3,
   "id": "6c0de163-7b4b-4139-9245-a7dad61f2ae5",
   "metadata": {},
   "outputs": [],
   "source": [
    "class Bird:\n",
    "    def fly(self):\n",
    "        print(\"this bird can fly\")\n",
    "\n",
    "class Sparrow(Bird):\n",
    "    def fly(self):\n",
    "        print(\"the sparrow is fliying high.\")\n",
    "\n",
    "class Penguin(Bird):\n",
    "    def fly(self):\n",
    "        print(\"the penguin can not fly\")"
   ]
  },
  {
   "cell_type": "code",
   "execution_count": 4,
   "id": "f30b3fde-dc69-49bc-9e30-6909744eb377",
   "metadata": {},
   "outputs": [
    {
     "name": "stdout",
     "output_type": "stream",
     "text": [
      "this bird can fly\n",
      "the sparrow is fliying high.\n",
      "the penguin can not fly\n"
     ]
    }
   ],
   "source": [
    "bird = Bird()\n",
    "sparrow = Sparrow()\n",
    "penguin = Penguin()\n",
    "\n",
    "bird.fly()\n",
    "sparrow.fly()\n",
    "penguin.fly()"
   ]
  },
  {
   "cell_type": "code",
   "execution_count": null,
   "id": "60279d4c-3a9b-4121-b39d-d97688119ee7",
   "metadata": {},
   "outputs": [],
   "source": [
    "Q 5) write a program to demonstrate encapsulation by creating a class BankAccout with private attributes balance and methods to \n",
    "     deposit,withdraw,and check balance."
   ]
  },
  {
   "cell_type": "code",
   "execution_count": 5,
   "id": "7bd24549-8e94-4e91-8242-aba908cd4a99",
   "metadata": {},
   "outputs": [],
   "source": [
    "class Bank:\n",
    "    \n",
    "    def __init__(self, balance):\n",
    "        self.__balance = balance\n",
    "    \n",
    "    def deposite(self, amount):\n",
    "        self.__balance = self.__balance = amount\n",
    "\n",
    "    def withdraw(self, amount):\n",
    "        if self.__balance >= amount:\n",
    "            self.__balance = self.__balance - amount\n",
    "            return True\n",
    "        else:\n",
    "            return False\n",
    "    def get_balance(self):\n",
    "        return self.__balance"
   ]
  },
  {
   "cell_type": "code",
   "execution_count": null,
   "id": "56c4a2bf-f213-462d-a4b4-b9d5f6fa5db2",
   "metadata": {},
   "outputs": [],
   "source": [
    "Q 6) demonstrate runtime polymorphism using a method play() in a base class instrument.Derive classes Guitar\n",
    "      and pinao that implement their own version of play()."
   ]
  },
  {
   "cell_type": "code",
   "execution_count": 7,
   "id": "9f6dde9d-ca4c-4ef4-9ac2-3c832204b333",
   "metadata": {},
   "outputs": [
    {
     "name": "stdout",
     "output_type": "stream",
     "text": [
      "the guitar is strumming a melody.\n",
      "the piano is playing a beautiful tune.\n"
     ]
    }
   ],
   "source": [
    "class Instrument:\n",
    "    def play(self):\n",
    "        raise NotImpementedError(\"subclass must implement abstract method\")\n",
    "\n",
    "class Guitar(Instrument):\n",
    "    def play(self):\n",
    "        return \"the guitar is strumming a melody.\"\n",
    "\n",
    "class Piano(Instrument):\n",
    "    def play(self):\n",
    "        return \"the piano is playing a beautiful tune.\"\n",
    "\n",
    "def make_it_play(instrument):\n",
    "    print(instrument.play())\n",
    "\n",
    "guitar = Guitar()\n",
    "piano = Piano()\n",
    "\n",
    "make_it_play(guitar)\n",
    "make_it_play(piano)"
   ]
  },
  {
   "cell_type": "code",
   "execution_count": null,
   "id": "c111fa68-d4f8-47e1-8dda-4d8980330492",
   "metadata": {},
   "outputs": [],
   "source": [
    "Q 7) create a class MathOperations with a class method add_numbers() to add two numbers and a static method substract_numbers()\n",
    "     to substract two numbers."
   ]
  },
  {
   "cell_type": "code",
   "execution_count": 8,
   "id": "3a5322a8-dcc3-49c5-9b45-055286c4ce8c",
   "metadata": {},
   "outputs": [],
   "source": [
    "class MathOperations:\n",
    "    def add_numbers(cls, num1, num2):\n",
    "        return num1 + num2\n",
    "    def substract_numbers(num1, num2):\n",
    "        return num1 - num2"
   ]
  },
  {
   "cell_type": "code",
   "execution_count": null,
   "id": "fb1ee225-c573-45b1-a35c-02f260a9896b",
   "metadata": {},
   "outputs": [],
   "source": [
    "Q 8) implement a class person with a class method to count the total number of persons created."
   ]
  },
  {
   "cell_type": "code",
   "execution_count": 17,
   "id": "8f872adf-85cc-46e0-a3cb-e874c2b2cf3d",
   "metadata": {},
   "outputs": [],
   "source": [
    "class Person:\n",
    "    count = 0\n",
    "    def __init__(self, name):\n",
    "        self.name = name\n",
    "        Person.count += 1\n",
    "    @classmethod\n",
    "    def get_count(cls):\n",
    "        return cls.count"
   ]
  },
  {
   "cell_type": "code",
   "execution_count": 18,
   "id": "9f127dd3-6cde-413a-ae34-4f924e6a5907",
   "metadata": {},
   "outputs": [
    {
     "name": "stdout",
     "output_type": "stream",
     "text": [
      "3\n"
     ]
    }
   ],
   "source": [
    "p1 = Person(\"rohit\")\n",
    "p2 = Person(\"rahul\")\n",
    "p3 = Person(\"rohan\")\n",
    "\n",
    "print(Person.get_count())"
   ]
  },
  {
   "cell_type": "code",
   "execution_count": null,
   "id": "0fd2ccbd-5b4b-4015-8678-75d90d48b948",
   "metadata": {},
   "outputs": [],
   "source": [
    "Q 9) demonstrate operator overloading by creating a class vector and overriding the add method to add two vectors."
   ]
  },
  {
   "cell_type": "code",
   "execution_count": 2,
   "id": "a7acedc3-b9fe-419f-b1e5-a9ade65f5cf7",
   "metadata": {},
   "outputs": [
    {
     "name": "stdout",
     "output_type": "stream",
     "text": [
      "Vector(6,8)\n"
     ]
    }
   ],
   "source": [
    "class Vector:\n",
    "    def __init__(self, x, y):\n",
    "        self.x = x\n",
    "        self.y = y\n",
    "        \n",
    "    def __add__(self, other):\n",
    "        return Vector(self.x + other.x, self.y + other.y)\n",
    "\n",
    "    def __str__(self):\n",
    "        return f\"Vector({self.x},{self.y})\"\n",
    "        \n",
    "v1 = Vector(2, 3)\n",
    "v2 = Vector(4, 5)\n",
    "\n",
    "v3 = v1 + v2\n",
    "\n",
    "print(v3)"
   ]
  },
  {
   "cell_type": "code",
   "execution_count": null,
   "id": "77655ad8-60af-48e9-951a-75e7399b8766",
   "metadata": {},
   "outputs": [],
   "source": [
    "Q 10)create a class Person with attributes name and age.Add a method greet() that prints \"Hello,my name is {name} and I am {age}\n",
    "       years old.\""
   ]
  },
  {
   "cell_type": "code",
   "execution_count": 4,
   "id": "8833e7e0-98ec-4cef-9b2a-28f931188a4b",
   "metadata": {},
   "outputs": [
    {
     "name": "stdout",
     "output_type": "stream",
     "text": [
      "Hello,my name is Rutuja and I am 20 years old.\n"
     ]
    }
   ],
   "source": [
    "class Person:\n",
    "    def __init__(self, name, age):\n",
    "        self.name = name\n",
    "        self.age = age\n",
    "    def greet(self):\n",
    "        print(f\"Hello,my name is {self.name} and I am {self.age} years old.\")\n",
    "\n",
    "person1 = Person(\"Rutuja\", 20)\n",
    "person1.greet()"
   ]
  },
  {
   "cell_type": "code",
   "execution_count": null,
   "id": "e593156c-2049-404b-ac0e-3a6b3f6502db",
   "metadata": {},
   "outputs": [],
   "source": [
    "Q 11) implement a class Student with attributes name and grades.create a method average_grade() to compute the average of the grades."
   ]
  },
  {
   "cell_type": "code",
   "execution_count": 7,
   "id": "3131833a-f311-423b-88aa-eead94188c05",
   "metadata": {},
   "outputs": [
    {
     "name": "stdout",
     "output_type": "stream",
     "text": [
      "the average grade for Rohit is: 25.0\n"
     ]
    }
   ],
   "source": [
    "class Student:\n",
    "    def __init__(self, name, grades):\n",
    "        self.name = name\n",
    "        self.grades = grades\n",
    "\n",
    "    def average_grade(self):\n",
    "        if not self.grades:\n",
    "            return 0\n",
    "        total_grades = sum(self.grades)\n",
    "        return total_grades / len(self.grades)\n",
    "student1 = Student(\"Rohit\", [10,20,30,40])\n",
    "print(f\"the average grade for {student1.name} is: {student1.average_grade()}\")"
   ]
  },
  {
   "cell_type": "code",
   "execution_count": null,
   "id": "7e90f606-5d0b-4b26-b28b-ed61ded68a1b",
   "metadata": {},
   "outputs": [],
   "source": [
    "Q 12) create a class Animal with an astract method sound().create two derived classes Cow and Sheep that implement the sound() method"
   ]
  },
  {
   "cell_type": "code",
   "execution_count": 9,
   "id": "10dc4161-fb82-4283-af53-f512f565b7f0",
   "metadata": {},
   "outputs": [],
   "source": [
    "from abc import ABC"
   ]
  },
  {
   "cell_type": "code",
   "execution_count": 10,
   "id": "607a0b84-5dbd-4872-ac19-8601028893b1",
   "metadata": {},
   "outputs": [
    {
     "name": "stdout",
     "output_type": "stream",
     "text": [
      "the cow says: moo\n",
      "the sheep says: baa\n"
     ]
    }
   ],
   "source": [
    "class Animal(ABC):\n",
    "    def sound(self):\n",
    "        pass\n",
    "\n",
    "class Cow(Animal):\n",
    "    def sound(self):\n",
    "        return \"moo\"\n",
    "\n",
    "class Sheep(Animal):\n",
    "    def sound(self):\n",
    "        return \"baa\"\n",
    "cow = Cow()\n",
    "sheep = Sheep()\n",
    "\n",
    "print(f\"the cow says: {cow.sound()}\")\n",
    "print(f\"the sheep says: {sheep.sound()}\")"
   ]
  },
  {
   "cell_type": "code",
   "execution_count": null,
   "id": "4909d75f-ca8b-489e-8a03-91a58dc197eb",
   "metadata": {},
   "outputs": [],
   "source": [
    "Q 13) create a class Book with attributes title, author, and year_published.Add a method get_book_info() that returns a formatted string with the\n",
    "        book's details."
   ]
  },
  {
   "cell_type": "code",
   "execution_count": 11,
   "id": "1e6b9369-0d5f-43d4-990d-7bac25538bc3",
   "metadata": {},
   "outputs": [],
   "source": [
    "class Book:\n",
    "    def __init__(self, title, author, year_published):\n",
    "        self.title = title\n",
    "        self.author = author\n",
    "        self.year_published = year_published\n",
    "\n",
    "    def get_book_info(self):\n",
    "        return f\"title: {self.title}, Author: {self.author}, Year: {self.year_published}\""
   ]
  },
  {
   "cell_type": "code",
   "execution_count": null,
   "id": "d156a2ba-0daf-403c-bafa-bcf54d61c705",
   "metadata": {},
   "outputs": [],
   "source": [
    "Q 14) create a class House with attributes address and price. create a derived class Mansion that adds an attribute number_of_rooms."
   ]
  },
  {
   "cell_type": "code",
   "execution_count": 12,
   "id": "a0616ba4-2209-4724-b3d7-e1b4a859a657",
   "metadata": {},
   "outputs": [],
   "source": [
    "class House:\n",
    "    def __init__(self, address, price):\n",
    "        self.address = address\n",
    "        self.price = price\n",
    "        \n",
    "class Mansion(House):\n",
    "    def __init__(self, address, price, number_of_rooms):\n",
    "        super().__init__(address, price)\n",
    "        self.number_of_rooms = number_of_rooms"
   ]
  },
  {
   "cell_type": "code",
   "execution_count": 14,
   "id": "773e1649-24c8-4837-80fa-8c1d0bf6b706",
   "metadata": {},
   "outputs": [],
   "source": [
    "house1 = House(\"123 loni pravara\",10000)\n",
    "mansion1 = Mansion(\"456 IT park\", 20000, 10)"
   ]
  },
  {
   "cell_type": "code",
   "execution_count": 15,
   "id": "b59d72d1-ff4f-4137-8718-828bd30ebfa9",
   "metadata": {},
   "outputs": [
    {
     "name": "stdout",
     "output_type": "stream",
     "text": [
      "House 1: Address - 123 loni pravara, Price - $10000\n",
      "Mansion 1: Address  456 IT park,Price - $20000, Rooms - 10\n"
     ]
    }
   ],
   "source": [
    "print(f\"House 1: Address - {house1.address}, Price - ${house1.price}\")\n",
    "print(f\"Mansion 1: Address  {mansion1.address},Price - ${mansion1.price}, Rooms - {mansion1.number_of_rooms}\")"
   ]
  },
  {
   "cell_type": "code",
   "execution_count": null,
   "id": "b8f887ff-dd0c-4501-800e-7344ffb0ead5",
   "metadata": {},
   "outputs": [],
   "source": []
  }
 ],
 "metadata": {
  "kernelspec": {
   "display_name": "Python 3 (ipykernel)",
   "language": "python",
   "name": "python3"
  },
  "language_info": {
   "codemirror_mode": {
    "name": "ipython",
    "version": 3
   },
   "file_extension": ".py",
   "mimetype": "text/x-python",
   "name": "python",
   "nbconvert_exporter": "python",
   "pygments_lexer": "ipython3",
   "version": "3.13.5"
  }
 },
 "nbformat": 4,
 "nbformat_minor": 5
}
